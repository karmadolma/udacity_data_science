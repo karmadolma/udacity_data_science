{
 "cells": [
  {
   "cell_type": "markdown",
   "id": "6722aae1",
   "metadata": {},
   "source": [
    "### Introduction"
   ]
  },
  {
   "cell_type": "markdown",
   "id": "feade81b",
   "metadata": {},
   "source": [
    "As part of the Udacity Nanodegree course, we had to pick a dataset, use the CRISP-DM framework, and answer some business questions. <br>\n",
    "\n",
    "For this project, I selected the Stack Overflow 2023 survey, specifically focusing on the AI section. Last year saw more than 90,000 respondents filling in the questionaire. The dataset can be accessed [here](https://survey.stackoverflow.co/). <br>\n",
    "\n",
    "Given the growing influence of AI in many fields, I aimed to explore software developers' views on AI advancements, their motivations for using AI, and the most popular AI tools they employ."
   ]
  },
  {
   "cell_type": "code",
   "execution_count": 1,
   "id": "9f19e4de-3307-433d-a290-be7908a9c7b9",
   "metadata": {},
   "outputs": [],
   "source": [
    "import pandas as pd\n",
    "import matplotlib.pyplot as plt\n",
    "from matplotlib.ticker import FuncFormatter"
   ]
  },
  {
   "cell_type": "markdown",
   "id": "82c5da1a",
   "metadata": {},
   "source": [
    "### Data Understanding"
   ]
  },
  {
   "cell_type": "code",
   "execution_count": 2,
   "id": "eb624d4a",
   "metadata": {},
   "outputs": [],
   "source": [
    "df = pd.read_csv('survey_results_public.csv')"
   ]
  },
  {
   "cell_type": "code",
   "execution_count": 3,
   "id": "7f2d614a",
   "metadata": {},
   "outputs": [],
   "source": [
    "df_schema = pd.read_csv('survey_results_schema.csv')"
   ]
  },
  {
   "cell_type": "code",
   "execution_count": 4,
   "id": "37ce9a28",
   "metadata": {
    "scrolled": true
   },
   "outputs": [
    {
     "data": {
      "text/html": [
       "<div>\n",
       "<style scoped>\n",
       "    .dataframe tbody tr th:only-of-type {\n",
       "        vertical-align: middle;\n",
       "    }\n",
       "\n",
       "    .dataframe tbody tr th {\n",
       "        vertical-align: top;\n",
       "    }\n",
       "\n",
       "    .dataframe thead th {\n",
       "        text-align: right;\n",
       "    }\n",
       "</style>\n",
       "<table border=\"1\" class=\"dataframe\">\n",
       "  <thead>\n",
       "    <tr style=\"text-align: right;\">\n",
       "      <th></th>\n",
       "      <th>ResponseId</th>\n",
       "      <th>Q120</th>\n",
       "      <th>MainBranch</th>\n",
       "      <th>Age</th>\n",
       "      <th>Employment</th>\n",
       "      <th>RemoteWork</th>\n",
       "      <th>CodingActivities</th>\n",
       "      <th>EdLevel</th>\n",
       "      <th>LearnCode</th>\n",
       "      <th>LearnCodeOnline</th>\n",
       "      <th>...</th>\n",
       "      <th>Frequency_1</th>\n",
       "      <th>Frequency_2</th>\n",
       "      <th>Frequency_3</th>\n",
       "      <th>TimeSearching</th>\n",
       "      <th>TimeAnswering</th>\n",
       "      <th>ProfessionalTech</th>\n",
       "      <th>Industry</th>\n",
       "      <th>SurveyLength</th>\n",
       "      <th>SurveyEase</th>\n",
       "      <th>ConvertedCompYearly</th>\n",
       "    </tr>\n",
       "  </thead>\n",
       "  <tbody>\n",
       "    <tr>\n",
       "      <th>0</th>\n",
       "      <td>1</td>\n",
       "      <td>I agree</td>\n",
       "      <td>None of these</td>\n",
       "      <td>18-24 years old</td>\n",
       "      <td>NaN</td>\n",
       "      <td>NaN</td>\n",
       "      <td>NaN</td>\n",
       "      <td>NaN</td>\n",
       "      <td>NaN</td>\n",
       "      <td>NaN</td>\n",
       "      <td>...</td>\n",
       "      <td>NaN</td>\n",
       "      <td>NaN</td>\n",
       "      <td>NaN</td>\n",
       "      <td>NaN</td>\n",
       "      <td>NaN</td>\n",
       "      <td>NaN</td>\n",
       "      <td>NaN</td>\n",
       "      <td>NaN</td>\n",
       "      <td>NaN</td>\n",
       "      <td>NaN</td>\n",
       "    </tr>\n",
       "    <tr>\n",
       "      <th>1</th>\n",
       "      <td>2</td>\n",
       "      <td>I agree</td>\n",
       "      <td>I am a developer by profession</td>\n",
       "      <td>25-34 years old</td>\n",
       "      <td>Employed, full-time</td>\n",
       "      <td>Remote</td>\n",
       "      <td>Hobby;Contribute to open-source projects;Boots...</td>\n",
       "      <td>Bachelor’s degree (B.A., B.S., B.Eng., etc.)</td>\n",
       "      <td>Books / Physical media;Colleague;Friend or fam...</td>\n",
       "      <td>Formal documentation provided by the owner of ...</td>\n",
       "      <td>...</td>\n",
       "      <td>1-2 times a week</td>\n",
       "      <td>10+ times a week</td>\n",
       "      <td>Never</td>\n",
       "      <td>15-30 minutes a day</td>\n",
       "      <td>15-30 minutes a day</td>\n",
       "      <td>DevOps function;Microservices;Automated testin...</td>\n",
       "      <td>Information Services, IT, Software Development...</td>\n",
       "      <td>Appropriate in length</td>\n",
       "      <td>Easy</td>\n",
       "      <td>285000.0</td>\n",
       "    </tr>\n",
       "    <tr>\n",
       "      <th>2</th>\n",
       "      <td>3</td>\n",
       "      <td>I agree</td>\n",
       "      <td>I am a developer by profession</td>\n",
       "      <td>45-54 years old</td>\n",
       "      <td>Employed, full-time</td>\n",
       "      <td>Hybrid (some remote, some in-person)</td>\n",
       "      <td>Hobby;Professional development or self-paced l...</td>\n",
       "      <td>Bachelor’s degree (B.A., B.S., B.Eng., etc.)</td>\n",
       "      <td>Books / Physical media;Colleague;On the job tr...</td>\n",
       "      <td>Formal documentation provided by the owner of ...</td>\n",
       "      <td>...</td>\n",
       "      <td>6-10 times a week</td>\n",
       "      <td>6-10 times a week</td>\n",
       "      <td>3-5 times a week</td>\n",
       "      <td>30-60 minutes a day</td>\n",
       "      <td>30-60 minutes a day</td>\n",
       "      <td>DevOps function;Microservices;Automated testin...</td>\n",
       "      <td>Information Services, IT, Software Development...</td>\n",
       "      <td>Appropriate in length</td>\n",
       "      <td>Easy</td>\n",
       "      <td>250000.0</td>\n",
       "    </tr>\n",
       "    <tr>\n",
       "      <th>3</th>\n",
       "      <td>4</td>\n",
       "      <td>I agree</td>\n",
       "      <td>I am a developer by profession</td>\n",
       "      <td>25-34 years old</td>\n",
       "      <td>Employed, full-time</td>\n",
       "      <td>Hybrid (some remote, some in-person)</td>\n",
       "      <td>Hobby</td>\n",
       "      <td>Bachelor’s degree (B.A., B.S., B.Eng., etc.)</td>\n",
       "      <td>Colleague;Friend or family member;Other online...</td>\n",
       "      <td>Formal documentation provided by the owner of ...</td>\n",
       "      <td>...</td>\n",
       "      <td>1-2 times a week</td>\n",
       "      <td>10+ times a week</td>\n",
       "      <td>1-2 times a week</td>\n",
       "      <td>15-30 minutes a day</td>\n",
       "      <td>30-60 minutes a day</td>\n",
       "      <td>Automated testing;Continuous integration (CI) ...</td>\n",
       "      <td>NaN</td>\n",
       "      <td>Appropriate in length</td>\n",
       "      <td>Easy</td>\n",
       "      <td>156000.0</td>\n",
       "    </tr>\n",
       "    <tr>\n",
       "      <th>4</th>\n",
       "      <td>5</td>\n",
       "      <td>I agree</td>\n",
       "      <td>I am a developer by profession</td>\n",
       "      <td>25-34 years old</td>\n",
       "      <td>Employed, full-time;Independent contractor, fr...</td>\n",
       "      <td>Remote</td>\n",
       "      <td>Hobby;Contribute to open-source projects;Profe...</td>\n",
       "      <td>Bachelor’s degree (B.A., B.S., B.Eng., etc.)</td>\n",
       "      <td>Books / Physical media;Online Courses or Certi...</td>\n",
       "      <td>Formal documentation provided by the owner of ...</td>\n",
       "      <td>...</td>\n",
       "      <td>1-2 times a week</td>\n",
       "      <td>1-2 times a week</td>\n",
       "      <td>3-5 times a week</td>\n",
       "      <td>60-120 minutes a day</td>\n",
       "      <td>30-60 minutes a day</td>\n",
       "      <td>Microservices;Automated testing;Observability ...</td>\n",
       "      <td>Other</td>\n",
       "      <td>Appropriate in length</td>\n",
       "      <td>Neither easy nor difficult</td>\n",
       "      <td>23456.0</td>\n",
       "    </tr>\n",
       "  </tbody>\n",
       "</table>\n",
       "<p>5 rows × 84 columns</p>\n",
       "</div>"
      ],
      "text/plain": [
       "   ResponseId     Q120                      MainBranch              Age  \\\n",
       "0           1  I agree                   None of these  18-24 years old   \n",
       "1           2  I agree  I am a developer by profession  25-34 years old   \n",
       "2           3  I agree  I am a developer by profession  45-54 years old   \n",
       "3           4  I agree  I am a developer by profession  25-34 years old   \n",
       "4           5  I agree  I am a developer by profession  25-34 years old   \n",
       "\n",
       "                                          Employment  \\\n",
       "0                                                NaN   \n",
       "1                                Employed, full-time   \n",
       "2                                Employed, full-time   \n",
       "3                                Employed, full-time   \n",
       "4  Employed, full-time;Independent contractor, fr...   \n",
       "\n",
       "                             RemoteWork  \\\n",
       "0                                   NaN   \n",
       "1                                Remote   \n",
       "2  Hybrid (some remote, some in-person)   \n",
       "3  Hybrid (some remote, some in-person)   \n",
       "4                                Remote   \n",
       "\n",
       "                                    CodingActivities  \\\n",
       "0                                                NaN   \n",
       "1  Hobby;Contribute to open-source projects;Boots...   \n",
       "2  Hobby;Professional development or self-paced l...   \n",
       "3                                              Hobby   \n",
       "4  Hobby;Contribute to open-source projects;Profe...   \n",
       "\n",
       "                                        EdLevel  \\\n",
       "0                                           NaN   \n",
       "1  Bachelor’s degree (B.A., B.S., B.Eng., etc.)   \n",
       "2  Bachelor’s degree (B.A., B.S., B.Eng., etc.)   \n",
       "3  Bachelor’s degree (B.A., B.S., B.Eng., etc.)   \n",
       "4  Bachelor’s degree (B.A., B.S., B.Eng., etc.)   \n",
       "\n",
       "                                           LearnCode  \\\n",
       "0                                                NaN   \n",
       "1  Books / Physical media;Colleague;Friend or fam...   \n",
       "2  Books / Physical media;Colleague;On the job tr...   \n",
       "3  Colleague;Friend or family member;Other online...   \n",
       "4  Books / Physical media;Online Courses or Certi...   \n",
       "\n",
       "                                     LearnCodeOnline  ...        Frequency_1  \\\n",
       "0                                                NaN  ...                NaN   \n",
       "1  Formal documentation provided by the owner of ...  ...   1-2 times a week   \n",
       "2  Formal documentation provided by the owner of ...  ...  6-10 times a week   \n",
       "3  Formal documentation provided by the owner of ...  ...   1-2 times a week   \n",
       "4  Formal documentation provided by the owner of ...  ...   1-2 times a week   \n",
       "\n",
       "         Frequency_2       Frequency_3         TimeSearching  \\\n",
       "0                NaN               NaN                   NaN   \n",
       "1   10+ times a week             Never   15-30 minutes a day   \n",
       "2  6-10 times a week  3-5 times a week   30-60 minutes a day   \n",
       "3   10+ times a week  1-2 times a week   15-30 minutes a day   \n",
       "4   1-2 times a week  3-5 times a week  60-120 minutes a day   \n",
       "\n",
       "         TimeAnswering                                   ProfessionalTech  \\\n",
       "0                  NaN                                                NaN   \n",
       "1  15-30 minutes a day  DevOps function;Microservices;Automated testin...   \n",
       "2  30-60 minutes a day  DevOps function;Microservices;Automated testin...   \n",
       "3  30-60 minutes a day  Automated testing;Continuous integration (CI) ...   \n",
       "4  30-60 minutes a day  Microservices;Automated testing;Observability ...   \n",
       "\n",
       "                                            Industry           SurveyLength  \\\n",
       "0                                                NaN                    NaN   \n",
       "1  Information Services, IT, Software Development...  Appropriate in length   \n",
       "2  Information Services, IT, Software Development...  Appropriate in length   \n",
       "3                                                NaN  Appropriate in length   \n",
       "4                                              Other  Appropriate in length   \n",
       "\n",
       "                   SurveyEase ConvertedCompYearly  \n",
       "0                         NaN                 NaN  \n",
       "1                        Easy            285000.0  \n",
       "2                        Easy            250000.0  \n",
       "3                        Easy            156000.0  \n",
       "4  Neither easy nor difficult             23456.0  \n",
       "\n",
       "[5 rows x 84 columns]"
      ]
     },
     "execution_count": 4,
     "metadata": {},
     "output_type": "execute_result"
    }
   ],
   "source": [
    "df.head()"
   ]
  },
  {
   "cell_type": "code",
   "execution_count": 5,
   "id": "a8509f66",
   "metadata": {},
   "outputs": [
    {
     "data": {
      "text/html": [
       "<div>\n",
       "<style scoped>\n",
       "    .dataframe tbody tr th:only-of-type {\n",
       "        vertical-align: middle;\n",
       "    }\n",
       "\n",
       "    .dataframe tbody tr th {\n",
       "        vertical-align: top;\n",
       "    }\n",
       "\n",
       "    .dataframe thead th {\n",
       "        text-align: right;\n",
       "    }\n",
       "</style>\n",
       "<table border=\"1\" class=\"dataframe\">\n",
       "  <thead>\n",
       "    <tr style=\"text-align: right;\">\n",
       "      <th></th>\n",
       "      <th>qid</th>\n",
       "      <th>qname</th>\n",
       "      <th>question</th>\n",
       "      <th>force_resp</th>\n",
       "      <th>type</th>\n",
       "      <th>selector</th>\n",
       "    </tr>\n",
       "  </thead>\n",
       "  <tbody>\n",
       "    <tr>\n",
       "      <th>0</th>\n",
       "      <td>QID16</td>\n",
       "      <td>S0</td>\n",
       "      <td>&lt;div&gt;&lt;span style=\"font-size:19px;\"&gt;&lt;strong&gt;Hel...</td>\n",
       "      <td>False</td>\n",
       "      <td>DB</td>\n",
       "      <td>TB</td>\n",
       "    </tr>\n",
       "    <tr>\n",
       "      <th>1</th>\n",
       "      <td>QID12</td>\n",
       "      <td>MetaInfo</td>\n",
       "      <td>Browser Meta Info</td>\n",
       "      <td>False</td>\n",
       "      <td>Meta</td>\n",
       "      <td>Browser</td>\n",
       "    </tr>\n",
       "    <tr>\n",
       "      <th>2</th>\n",
       "      <td>QID310</td>\n",
       "      <td>Q310</td>\n",
       "      <td>&lt;div&gt;&lt;span style=\"font-size:19px;\"&gt;&lt;strong&gt;You...</td>\n",
       "      <td>False</td>\n",
       "      <td>DB</td>\n",
       "      <td>TB</td>\n",
       "    </tr>\n",
       "    <tr>\n",
       "      <th>3</th>\n",
       "      <td>QID312</td>\n",
       "      <td>Q120</td>\n",
       "      <td></td>\n",
       "      <td>True</td>\n",
       "      <td>MC</td>\n",
       "      <td>SAVR</td>\n",
       "    </tr>\n",
       "    <tr>\n",
       "      <th>4</th>\n",
       "      <td>QID1</td>\n",
       "      <td>S1</td>\n",
       "      <td>&lt;span style=\"font-size:22px; font-family: aria...</td>\n",
       "      <td>False</td>\n",
       "      <td>DB</td>\n",
       "      <td>TB</td>\n",
       "    </tr>\n",
       "  </tbody>\n",
       "</table>\n",
       "</div>"
      ],
      "text/plain": [
       "      qid     qname                                           question  \\\n",
       "0   QID16        S0  <div><span style=\"font-size:19px;\"><strong>Hel...   \n",
       "1   QID12  MetaInfo                                  Browser Meta Info   \n",
       "2  QID310      Q310  <div><span style=\"font-size:19px;\"><strong>You...   \n",
       "3  QID312      Q120                                                      \n",
       "4    QID1        S1  <span style=\"font-size:22px; font-family: aria...   \n",
       "\n",
       "  force_resp  type selector  \n",
       "0      False    DB       TB  \n",
       "1      False  Meta  Browser  \n",
       "2      False    DB       TB  \n",
       "3       True    MC     SAVR  \n",
       "4      False    DB       TB  "
      ]
     },
     "execution_count": 5,
     "metadata": {},
     "output_type": "execute_result"
    }
   ],
   "source": [
    "df_schema.head()"
   ]
  },
  {
   "cell_type": "markdown",
   "id": "0e1f7b89",
   "metadata": {},
   "source": [
    "___"
   ]
  },
  {
   "cell_type": "markdown",
   "id": "57d2fcf2",
   "metadata": {},
   "source": [
    "### Business Understanding\n",
    "<B> Based on the data seen above, we will try to answer the following questions: <B>\n",
    "1. How favorable is your stance on using AI tools as part of your development workflow?\n",
    "2. For the AI tools you use as part of your development workflow, what are the MOST important benefits you are hoping to achieve? Please check all that apply.\n",
    "3. Which AI-powered search tools did you use regularly over the past year, and which do you want to work with over the next year? Select all that apply."
   ]
  },
  {
   "cell_type": "markdown",
   "id": "38f2223f",
   "metadata": {},
   "source": [
    "___"
   ]
  },
  {
   "cell_type": "markdown",
   "id": "60f6bc7c",
   "metadata": {},
   "source": [
    "### Data Preparation and Data Modeling"
   ]
  },
  {
   "cell_type": "code",
   "execution_count": 11,
   "id": "333e412e",
   "metadata": {},
   "outputs": [
    {
     "ename": "SyntaxError",
     "evalue": "unterminated string literal (detected at line 1) (35280980.py, line 1)",
     "output_type": "error",
     "traceback": [
      "\u001b[0;36m  Cell \u001b[0;32mIn[11], line 1\u001b[0;36m\u001b[0m\n\u001b[0;31m    \" Data Preparation Steps:\u001b[0m\n\u001b[0m    ^\u001b[0m\n\u001b[0;31mSyntaxError\u001b[0m\u001b[0;31m:\u001b[0m unterminated string literal (detected at line 1)\n"
     ]
    }
   ],
   "source": [
    "'''' \n",
    "\n",
    "Data Preparation Steps:\n",
    "Data Cleaning: No effort was required in cleaining the data since the data is clean\n",
    "Missing Values: Missing values or N/A is expected in the survey as respondents might choose not to answer \n",
    "few questions. Hence, fillna function was used to handle nulls in such cases.\n",
    "\n",
    "'''''\n",
    "\n",
    "def clean_data(df, column_name):\n",
    "    \"\"\"Clean the data by converting non-string values to empty strings and converting to lower case.\"\"\"\n",
    "    df[column_name] = df[column_name].astype(str).fillna('').str.lower()\n",
    "    return df\n",
    "\n",
    "def count_occurrences(df, column_name, resources):\n",
    "    \"\"\"Count the occurrences of each resource in the specified column of the DataFrame.\"\"\"\n",
    "    resource_counts = {resource: 0 for resource in resources}\n",
    "    resources_lower = [resource.lower() for resource in resources]\n",
    "\n",
    "    for item in df[column_name]:\n",
    "        for resource, resource_lower in zip(resources, resources_lower):\n",
    "            if resource_lower in item:\n",
    "                resource_counts[resource] += 1\n",
    "\n",
    "    counts_df = pd.DataFrame(list(resource_counts.items()), columns=[\"Resource\", \"Count\"])\n",
    "    counts_df = counts_df.sort_values(by=\"Count\", ascending=True)\n",
    "    total_count = counts_df[\"Count\"].sum()\n",
    "    counts_df[\"Percentage\"] = counts_df[\"Count\"] / total_count * 100\n",
    "    return counts_df\n",
    "\n",
    "def plot_data(counts_df, title):\n",
    "    \"\"\"Plot the data using a horizontal bar chart.\"\"\"\n",
    "    bar_height = 0.6\n",
    "    bar_color = (69/255, 110/255, 176/255)\n",
    "    font_color = (125/255, 126/255, 128/255)\n",
    "\n",
    "    plt.figure(figsize=(7, 5))\n",
    "    bars = plt.barh(counts_df[\"Resource\"], counts_df[\"Count\"], height=bar_height, color=bar_color, edgecolor=None)\n",
    "    plt.title(title, color=font_color)\n",
    "\n",
    "    def k_formatter(x, pos):\n",
    "        return f'{int(x / 1000)}k'\n",
    "\n",
    "    formatter = FuncFormatter(k_formatter)\n",
    "    plt.gca().xaxis.set_major_formatter(formatter)\n",
    "\n",
    "    for bar, percentage in zip(bars, counts_df[\"Percentage\"]):\n",
    "        width = bar.get_width()\n",
    "        plt.gca().text(width - 5, bar.get_y() + bar.get_height() / 2, f'{percentage:.1f}%', ha='left', va='center', color=font_color)\n",
    "\n",
    "    plt.gca().spines['top'].set_visible(False)\n",
    "    plt.gca().spines['right'].set_visible(False)\n",
    "    plt.gca().spines['bottom'].set_visible(False)\n",
    "    plt.gca().spines['left'].set_color((0.66, 0.66, 0.66))\n",
    "    plt.gca().xaxis.set_ticks([])\n",
    "    plt.gca().yaxis.set_ticks_position('none')\n",
    "    plt.tight_layout()\n",
    "    plt.show()"
   ]
  },
  {
   "cell_type": "markdown",
   "id": "4eeed064",
   "metadata": {},
   "source": [
    "### Evaluation"
   ]
  },
  {
   "cell_type": "markdown",
   "id": "39ebe6a8",
   "metadata": {},
   "source": [
    "### How favorable is your stance on using AI tools as part of your development workflow?"
   ]
  },
  {
   "cell_type": "markdown",
   "id": "04bdaec1",
   "metadata": {},
   "source": [
    "- Very favorable\n",
    "- Favorable\n",
    "- Indifferent\n",
    "- Unfavorable\n",
    "- Very unfavorable\n",
    "- Unsure"
   ]
  },
  {
   "cell_type": "code",
   "execution_count": 8,
   "id": "2989ec4f",
   "metadata": {},
   "outputs": [
    {
     "data": {
      "image/png": "[encoded data removed]",
      "text/plain": [
       "<Figure size 700x500 with 1 Axes>"
      ]
     },
     "metadata": {},
     "output_type": "display_data"
    }
   ],
   "source": [
    "# First Plot\n",
    "resources_sent = [\n",
    "    \"Very favorable\",\n",
    "    \"Favorable\",\n",
    "    \"Indifferent\",\n",
    "    \"Unfavorable\",\n",
    "    \"Very unfavorable\",\n",
    "    \"Unsure\"\n",
    "]\n",
    "\n",
    "df = clean_data(df, \"AISent\")\n",
    "counts_df_sent = count_occurrences(df, \"AISent\", resources_sent)\n",
    "plot_data(counts_df_sent, 'What is the stance of developers towards AI tools?')"
   ]
  },
  {
   "cell_type": "markdown",
   "id": "ce829910",
   "metadata": {},
   "source": [
    "### For the AI tools you use as part of your development workflow, what are the MOST important benefits you are hoping to achieve? Please check all that apply."
   ]
  },
  {
   "cell_type": "markdown",
   "id": "f6b9778a",
   "metadata": {},
   "source": [
    "- Increase productivity <br>\n",
    "- Greater efficiency <br>\n",
    "- Improve collaboration <br>\n",
    "- Speed up learning <br>\n",
    "- Improve accuracy in coding <br>\n",
    "- None of the above <br>"
   ]
  },
  {
   "cell_type": "code",
   "execution_count": 9,
   "id": "20b5af2c",
   "metadata": {},
   "outputs": [
    {
     "data": {
      "image/png": "[encoded data removed]",
      "text/plain": [
       "<Figure size 700x500 with 1 Axes>"
      ]
     },
     "metadata": {},
     "output_type": "display_data"
    }
   ],
   "source": [
    "# Second Plot\n",
    "resources_acc = [ \n",
    "    \"Increase productivity\",\n",
    "    \"Greater efficiency\",\n",
    "    \"Improve collaboration\",\n",
    "    \"Speed up learning\",\n",
    "    \"Improve accuracy in coding\",\n",
    "    \"None of the above\"\n",
    "]\n",
    "\n",
    "df = clean_data(df, \"AIAcc\")\n",
    "counts_df_acc = count_occurrences(df, \"AIAcc\", resources_acc)\n",
    "plot_data(counts_df_acc, 'What are they hoping to achieve with the use of AI tools?')\n"
   ]
  },
  {
   "cell_type": "markdown",
   "id": "18cb6399",
   "metadata": {},
   "source": [
    "### Which AI-powered search tools did you use regularly over the past year, and which do you want to work with over the next year? Select all that apply."
   ]
  },
  {
   "cell_type": "code",
   "execution_count": 11,
   "id": "38f97cdb",
   "metadata": {},
   "outputs": [
    {
     "data": {
      "image/png": "[encoded data removed]",
      "text/plain": [
       "<Figure size 700x500 with 1 Axes>"
      ]
     },
     "metadata": {},
     "output_type": "display_data"
    }
   ],
   "source": [
    "# Third Plot\n",
    "resources_search = [ \n",
    "    \"Andi\",\n",
    "    \"Bing AI\",\n",
    "    \"ChatGPT\",\n",
    "    \"Google Bard AI\",\n",
    "    \"Metaphor\"\n",
    "    \"Neeva AI\",\n",
    "    \"Perplexity AI\",\n",
    "    \"Phind\",\n",
    "    \"Quora Poe\",\n",
    "    \"WolframAlpha\"\n",
    "]\n",
    "\n",
    "df = clean_data(df, \"AISearchHaveWorkedWith\")\n",
    "counts_df_search = count_occurrences(df, \"AISearchHaveWorkedWith\", resources_search)\n",
    "plot_data(counts_df_search, 'Which AI tools are commonly utilized?')\n"
   ]
  },
  {
   "cell_type": "markdown",
   "id": "e42a694d",
   "metadata": {},
   "source": [
    "### Conclusion"
   ]
  },
  {
   "cell_type": "markdown",
   "id": "b86f0020",
   "metadata": {},
   "source": [
    "To wrap up the analysis, despite the initial negativity surrounding job loss among software developers, they actually favor AI tools to assist them in their work. These tools according to them help improve productivity, facilitate learning, and, surprisingly, enhance their coding skills."
   ]
  }
 ],
 "metadata": {
  "kernelspec": {
   "display_name": "Python 3 (ipykernel)",
   "language": "python",
   "name": "python3"
  },
  "language_info": {
   "codemirror_mode": {
    "name": "ipython",
    "version": 3
   },
   "file_extension": ".py",
   "mimetype": "text/x-python",
   "name": "python",
   "nbconvert_exporter": "python",
   "pygments_lexer": "ipython3",
   "version": "3.10.8"
  }
 },
 "nbformat": 4,
 "nbformat_minor": 5
}
